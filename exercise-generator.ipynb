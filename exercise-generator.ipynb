{
 "cells": [
  {
   "cell_type": "markdown",
   "id": "a89aab10",
   "metadata": {},
   "source": [
    "# http://tinyurl.com/4ywsepbn (in \"exercise\" folder)"
   ]
  },
  {
   "cell_type": "markdown",
   "id": "8557ffa5",
   "metadata": {},
   "source": [
    "## Number generator\n",
    "Modify `my_range()` to generate numbers using generator\n",
    "\n",
    "```\n",
    "l = []\n",
    "def my_range(n):\n",
    "    loop_counter = 0\n",
    "    number = 0\n",
    "\n",
    "    while loop_counter < n:\n",
    "        number += 1\n",
    "        loop_counter += 1\n",
    "        l.append(number)\n",
    "    \n",
    "    return l\n",
    "```\n",
    "\n",
    "### Expected output (`n=10`)\n",
    "```\n",
    "[1, 2, 3, 4, 5, 6, 7, 8, 9, 10]\n",
    "```"
   ]
  },
  {
   "cell_type": "code",
   "execution_count": null,
   "id": "cc121a86",
   "metadata": {},
   "outputs": [],
   "source": []
  },
  {
   "cell_type": "markdown",
   "id": "ab8612b8",
   "metadata": {},
   "source": [
    "### Fibonacci generator\n",
    "Modify fibonacci() to generate Fibonacci numbers using generator\n",
    "\n",
    "```\n",
    "def fibonacci(N):\n",
    "    L = []\n",
    "    a, b = 0, 1\n",
    "    while len(L) < N:\n",
    "        a, b = b, a + b\n",
    "        L.append(a)\n",
    "    return L\n",
    "```\n",
    "\n",
    "### Expected output (`N=20`)\n",
    "```\n",
    "[0, 1, 1, 2, 3, 5, 8, 13, 21, 34, 55, 89, 144, 233, 377, 610, 987, 1597, 2584, 4181]\n",
    "```"
   ]
  },
  {
   "cell_type": "code",
   "execution_count": null,
   "id": "d3a122a5",
   "metadata": {},
   "outputs": [],
   "source": []
  }
 ],
 "metadata": {
  "kernelspec": {
   "display_name": "Python 3",
   "language": "python",
   "name": "python3"
  },
  "language_info": {
   "codemirror_mode": {
    "name": "ipython",
    "version": 3
   },
   "file_extension": ".py",
   "mimetype": "text/x-python",
   "name": "python",
   "nbconvert_exporter": "python",
   "pygments_lexer": "ipython3",
   "version": "3.8.8"
  }
 },
 "nbformat": 4,
 "nbformat_minor": 5
}
