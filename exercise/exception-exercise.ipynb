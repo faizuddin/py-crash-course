{
 "cells": [
  {
   "cell_type": "markdown",
   "id": "6fc1792b",
   "metadata": {},
   "source": [
    "# http://tinyurl.com/4ywsepbn (Exercise notebook)"
   ]
  },
  {
   "cell_type": "markdown",
   "id": "a8cfec0b",
   "metadata": {},
   "source": [
    "## Interactive calculator\n",
    "Let's develop an interactive Python calculator! User input is assumed to be a formula that consist of a number, an operator (`+`, `-`, `*`, `/`) and another number, separated by white space (e.g. 1 * 1). Split user input using `str.split()`, and check whether the resulting list is valid:\n",
    "\n",
    "* If the input does not consist of 3 elements, raise a `FormulaError`, which is a custom `Exception`.\n",
    "* Try to convert the first and third input to a float (like so: `float_value = float(str_value))`. Catch any `ValueError` that occurs, and instead raise a `FormulaError`\n",
    "* If the second input is not any of the arithmetic operators ('+' or '-' or '*' or '/') again raise a FormulaError\n",
    "* Catch specific `ZeroDivisionError` by displaying \"Invalid operation!\" when user performs division by zero.\n",
    "\n",
    "If the input is valid, perform the calculation and print out the result. The user is then prompted to provide new input, and so on, until the user enters \"quit\"."
   ]
  },
  {
   "cell_type": "code",
   "execution_count": null,
   "id": "b1e6243f",
   "metadata": {},
   "outputs": [],
   "source": [
    "# Example to get user input\n",
    "user_input = input(\"Enter input: \")\n",
    "print(\"Your input is: \", user_input)"
   ]
  },
  {
   "cell_type": "code",
   "execution_count": null,
   "id": "33606691",
   "metadata": {},
   "outputs": [],
   "source": [
    "# Example to perform string split\n",
    "input_list = user_input.split()\n",
    "print(\"String list: {0} \\nNumber of string: {1}\".format(input_list,len(input_list)))"
   ]
  }
 ],
 "metadata": {
  "kernelspec": {
   "display_name": "Python 3",
   "language": "python",
   "name": "python3"
  },
  "language_info": {
   "codemirror_mode": {
    "name": "ipython",
    "version": 3
   },
   "file_extension": ".py",
   "mimetype": "text/x-python",
   "name": "python",
   "nbconvert_exporter": "python",
   "pygments_lexer": "ipython3",
   "version": "3.8.8"
  }
 },
 "nbformat": 4,
 "nbformat_minor": 5
}
