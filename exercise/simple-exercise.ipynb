{
 "cells": [
  {
   "cell_type": "markdown",
   "id": "1e56de21",
   "metadata": {},
   "source": [
    "## Exercise\n",
    "\n",
    "You are analysing a list of English football teams. Members of each team are stored in the respective team list as follows:\n",
    "\n",
    "*   `best_team = [\"Klopp\", \"Henderson\", \"Alisson\", \"Roberts\", \"Dijk\", \"Matip\", \"Fabinho\", \"Thiago\", \"Salah\", \"Mane\", \"Firminho\"]`\n",
    "*   `worse_team = [\"Tuchel\", \"Azpilicueta\", \"Mendy\", \"Rudiger\", \"Alonso\", \"Silva\", \"Kante\", \"Kovacic\", \"Havertz\", \"Lukaku\", \"Werner\"]`\n",
    "*   `worst_team = [\"Ole\", \"Maguire\", \"De Gea\", \"Shaw\", \"Varane\", \"Pogba\", \"Fernandes\", \"McTominay\", \"Greenwood\", \"Sancho\", \"Rashford\"]`\n",
    "\n",
    "The *team manager* is the first in the list, the *captain* is the second name in the list, and other players are listed after that. These lists are stored in another list called `teams_list`, which starts with the `best_team` and proceeds through the list to the `worst_team` last. \n",
    "\n",
    "You are required to **write three functions**:\n",
    "\n",
    "1.   `worst_team_captain()` to select and print the **captain** on the `worst_team`.\n",
    "2.   `best_team_manager()` to select and print the **manager** on the `best_team`.\n",
    "3.   `worse_team_random_player()` to select and print a random **player** on the `worse_team` "
   ]
  },
  {
   "cell_type": "code",
   "execution_count": null,
   "id": "739ec812",
   "metadata": {},
   "outputs": [],
   "source": []
  }
 ],
 "metadata": {
  "kernelspec": {
   "display_name": "Python 3",
   "language": "python",
   "name": "python3"
  },
  "language_info": {
   "codemirror_mode": {
    "name": "ipython",
    "version": 3
   },
   "file_extension": ".py",
   "mimetype": "text/x-python",
   "name": "python",
   "nbconvert_exporter": "python",
   "pygments_lexer": "ipython3",
   "version": "3.8.8"
  }
 },
 "nbformat": 4,
 "nbformat_minor": 5
}
