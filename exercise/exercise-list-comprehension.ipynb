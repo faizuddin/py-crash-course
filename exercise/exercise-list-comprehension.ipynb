{
 "cells": [
  {
   "cell_type": "markdown",
   "id": "26fe9f2a",
   "metadata": {},
   "source": [
    "# http://tinyurl.com/4ywsepbn (in \"exercise\" folder)"
   ]
  },
  {
   "cell_type": "markdown",
   "id": "91448fe6",
   "metadata": {},
   "source": [
    "## Iterate both lists simultaneously\n",
    "\n",
    "Given a two Python lists. Write a program to iterate both lists simultaneously and display items from `list1` in original order and items from `list2` in reverse order.\n",
    "\n",
    "```\n",
    "list1 = [10, 20, 30, 40]\n",
    "list2 = [100, 200, 300, 400]\n",
    "```\n",
    "\n",
    "### Expected output:\n",
    "```\n",
    "10 400\n",
    "20 300\n",
    "30 200\n",
    "40 100\n",
    "```\n",
    "\n",
    "### Hint\n",
    "Use the `zip()` function. This function takes two or more iterables (like list, dict, string), aggregates them in a tuple, and returns it."
   ]
  },
  {
   "cell_type": "code",
   "execution_count": null,
   "id": "91090bf5",
   "metadata": {},
   "outputs": [],
   "source": []
  },
  {
   "cell_type": "markdown",
   "id": "df0f8a93",
   "metadata": {},
   "source": [
    "## Remove empty strings from the list of strings\n",
    "```\n",
    "list1 = [\"Ali\", \"\", \"Raju\", \"John\", \"\", \"Husin\"]\n",
    "```\n",
    "\n",
    "### Expected output\n",
    "```\n",
    "[\"Ali\", \"Raju\", \"John\", \"Husin\"]\n",
    "```\n",
    "### Hint\n",
    "Use a `filter()` function to remove the `None` / empty type from the list"
   ]
  },
  {
   "cell_type": "code",
   "execution_count": null,
   "id": "650042cc",
   "metadata": {},
   "outputs": [],
   "source": []
  },
  {
   "cell_type": "markdown",
   "id": "1926cfcd",
   "metadata": {},
   "source": [
    "## Replace list’s item with new value if found\n",
    "You have given a Python list. Write a program to find value 20 in the list, and if it is present, replace it with 200. Only update the first occurrence of an item.\n",
    "\n",
    "```\n",
    "list1 = [5, 10, 15, 20, 25, 50, 20]\n",
    "```\n",
    "\n",
    "### Expected output\n",
    "```\n",
    "[5, 10, 15, 200, 25, 50, 20]\n",
    "```\n",
    "\n",
    "### Hint\n",
    "* Use list method `index(20)` to get the index number of a 20\n",
    "* Next, update the item present at the location using the index number"
   ]
  },
  {
   "cell_type": "code",
   "execution_count": null,
   "id": "adb3e8ce",
   "metadata": {},
   "outputs": [],
   "source": []
  },
  {
   "cell_type": "markdown",
   "id": "052a1a0e",
   "metadata": {},
   "source": [
    "## Remove all occurrences of a specific item from a list.\n",
    "Given a Python list, write a program to remove all occurrences of item 20.\n",
    "```\n",
    "list1 = [5, 20, 15, 20, 25, 50, 20]\n",
    "```\n",
    "\n",
    "### Expected output\n",
    "```\n",
    "[5, 15, 25, 50]\n",
    "```"
   ]
  },
  {
   "cell_type": "code",
   "execution_count": null,
   "id": "81ac08a7",
   "metadata": {},
   "outputs": [],
   "source": []
  },
  {
   "cell_type": "markdown",
   "id": "06fc96fa",
   "metadata": {},
   "source": [
    "## Extend nested list by adding the sublist\n",
    "You have given a nested list. Write a program to extend it by adding the sublist `[\"h\", \"i\", \"j\"]` in such a way that it will look like the following list.\n",
    "\n",
    "```\n",
    "list1 = [\"a\", \"b\", [\"c\", [\"d\", \"e\", [\"f\", \"g\"], \"k\"], \"l\"], \"m\", \"n\"]\n",
    "\n",
    "# sub list to add\n",
    "sub_list = [\"h\", \"i\", \"j\"]\n",
    "```\n",
    "\n",
    "### Expected output\n",
    "```\n",
    "['a', 'b', ['c', ['d', 'e', ['f', 'g', 'h', 'i', 'j'], 'k'], 'l'], 'm', 'n']\n",
    "```\n",
    "\n",
    "### Hint\n",
    "The given list is a nested list. Use indexing to locate the specified sublist item, then use the `extend()` method to add new items after it."
   ]
  },
  {
   "cell_type": "code",
   "execution_count": null,
   "id": "29f62621",
   "metadata": {},
   "outputs": [],
   "source": []
  }
 ],
 "metadata": {
  "kernelspec": {
   "display_name": "Python 3",
   "language": "python",
   "name": "python3"
  },
  "language_info": {
   "codemirror_mode": {
    "name": "ipython",
    "version": 3
   },
   "file_extension": ".py",
   "mimetype": "text/x-python",
   "name": "python",
   "nbconvert_exporter": "python",
   "pygments_lexer": "ipython3",
   "version": "3.8.8"
  }
 },
 "nbformat": 4,
 "nbformat_minor": 5
}
